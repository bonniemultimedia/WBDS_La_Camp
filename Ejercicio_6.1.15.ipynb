{
 "cells": [
  {
   "cell_type": "markdown",
   "metadata": {},
   "source": [
    "\n",
    "Ejercicio 6.1.15"
   ]
  },
  {
   "cell_type": "markdown",
   "metadata": {},
   "source": [
    "# Importar Librerías"
   ]
  },
  {
   "cell_type": "code",
   "execution_count": 16,
   "metadata": {
    "tags": []
   },
   "outputs": [],
   "source": [
    "import pandas as pd\n",
    "import matplotlib.pyplot as plt\n",
    "import seaborn as sns\n",
    "from sklearn.metrics import mean_squared_error\n",
    "from scipy.stats import pearsonr, spearmanr\n",
    "from sklearn.linear_model import LinearRegression\n",
    "from sklearn.model_selection import train_test_split"
   ]
  },
  {
   "cell_type": "markdown",
   "metadata": {},
   "source": [
    "# Leer Archivo"
   ]
  },
  {
   "cell_type": "code",
   "execution_count": 4,
   "metadata": {},
   "outputs": [
    {
     "data": {
      "text/html": [
       "<div>\n",
       "<style scoped>\n",
       "    .dataframe tbody tr th:only-of-type {\n",
       "        vertical-align: middle;\n",
       "    }\n",
       "\n",
       "    .dataframe tbody tr th {\n",
       "        vertical-align: top;\n",
       "    }\n",
       "\n",
       "    .dataframe thead th {\n",
       "        text-align: right;\n",
       "    }\n",
       "</style>\n",
       "<table border=\"1\" class=\"dataframe\">\n",
       "  <thead>\n",
       "    <tr style=\"text-align: right;\">\n",
       "      <th></th>\n",
       "      <th>period</th>\n",
       "      <th>year</th>\n",
       "      <th>quarter</th>\n",
       "      <th>messages_count</th>\n",
       "      <th>quarter_desc</th>\n",
       "    </tr>\n",
       "  </thead>\n",
       "  <tbody>\n",
       "    <tr>\n",
       "      <th>0</th>\n",
       "      <td>1</td>\n",
       "      <td>2013</td>\n",
       "      <td>1</td>\n",
       "      <td>36430004057</td>\n",
       "      <td>Ene-Mar 2013</td>\n",
       "    </tr>\n",
       "    <tr>\n",
       "      <th>1</th>\n",
       "      <td>2</td>\n",
       "      <td>2013</td>\n",
       "      <td>2</td>\n",
       "      <td>34255065773</td>\n",
       "      <td>Abr-Jun 2013</td>\n",
       "    </tr>\n",
       "    <tr>\n",
       "      <th>2</th>\n",
       "      <td>3</td>\n",
       "      <td>2013</td>\n",
       "      <td>3</td>\n",
       "      <td>33217669903</td>\n",
       "      <td>Jul-Sept 2013</td>\n",
       "    </tr>\n",
       "    <tr>\n",
       "      <th>3</th>\n",
       "      <td>4</td>\n",
       "      <td>2013</td>\n",
       "      <td>4</td>\n",
       "      <td>22547130953</td>\n",
       "      <td>Oct-Dic 2013</td>\n",
       "    </tr>\n",
       "    <tr>\n",
       "      <th>4</th>\n",
       "      <td>5</td>\n",
       "      <td>2014</td>\n",
       "      <td>1</td>\n",
       "      <td>18393198881</td>\n",
       "      <td>Ene-Mar 2013</td>\n",
       "    </tr>\n",
       "  </tbody>\n",
       "</table>\n",
       "</div>"
      ],
      "text/plain": [
       "   period  year  quarter  messages_count   quarter_desc\n",
       "0       1  2013        1     36430004057   Ene-Mar 2013\n",
       "1       2  2013        2     34255065773   Abr-Jun 2013\n",
       "2       3  2013        3     33217669903  Jul-Sept 2013\n",
       "3       4  2013        4     22547130953   Oct-Dic 2013\n",
       "4       5  2014        1     18393198881   Ene-Mar 2013"
      ]
     },
     "execution_count": 4,
     "metadata": {},
     "output_type": "execute_result"
    }
   ],
   "source": [
    "archivo = pd.read_csv(\"https://docs.google.com/spreadsheets/d/e/2PACX-1vRSa9oM9fC-QlT7VOeGhZQtrWnlNSTsk3U8DWGTOXUWtPH6u9o5O5eZ0kTg8mFTwAn9vMdGRK7o2SPB/pub?gid=164226711&single=true&output=csv\")\n",
    "archivo.head(5)"
   ]
  },
  {
   "cell_type": "markdown",
   "metadata": {},
   "source": [
    "# Inspeccion"
   ]
  },
  {
   "cell_type": "markdown",
   "metadata": {},
   "source": [
    "## Cantidad de columnas"
   ]
  },
  {
   "cell_type": "code",
   "execution_count": 5,
   "metadata": {},
   "outputs": [
    {
     "data": {
      "text/plain": [
       "37"
      ]
     },
     "execution_count": 5,
     "metadata": {},
     "output_type": "execute_result"
    }
   ],
   "source": [
    "len(archivo)"
   ]
  },
  {
   "cell_type": "markdown",
   "metadata": {},
   "source": [
    "###Cantidad de filas"
   ]
  },
  {
   "cell_type": "code",
   "execution_count": 6,
   "metadata": {},
   "outputs": [
    {
     "data": {
      "text/plain": [
       "5"
      ]
     },
     "execution_count": 6,
     "metadata": {},
     "output_type": "execute_result"
    }
   ],
   "source": [
    "len(archivo.columns)"
   ]
  },
  {
   "cell_type": "markdown",
   "metadata": {},
   "source": [
    "## Comprobar que no existan datos vacios"
   ]
  },
  {
   "cell_type": "code",
   "execution_count": 7,
   "metadata": {},
   "outputs": [
    {
     "data": {
      "text/plain": [
       "period            0\n",
       "year              0\n",
       "quarter           0\n",
       "messages_count    0\n",
       "quarter_desc      0\n",
       "dtype: int64"
      ]
     },
     "execution_count": 7,
     "metadata": {},
     "output_type": "execute_result"
    }
   ],
   "source": [
    "archivo.isnull().sum()"
   ]
  },
  {
   "cell_type": "markdown",
   "metadata": {},
   "source": [
    "# ¿Cuál es la correlación entre period y messages_count, en términos absolutos? Calculala usando el método de Spearman"
   ]
  },
  {
   "cell_type": "markdown",
   "metadata": {},
   "source": [
    "La correlacion entre period y messages_cont -0.996444"
   ]
  },
  {
   "cell_type": "markdown",
   "metadata": {},
   "source": [
    "## METODO 1 : Generar una matriz de correlaciones entre las tablas"
   ]
  },
  {
   "cell_type": "code",
   "execution_count": 8,
   "metadata": {},
   "outputs": [
    {
     "name": "stderr",
     "output_type": "stream",
     "text": [
      "C:\\Users\\Bonnie\\AppData\\Local\\Temp\\ipykernel_10248\\4116957605.py:1: FutureWarning: The default value of numeric_only in DataFrame.corr is deprecated. In a future version, it will default to False. Select only valid columns or specify the value of numeric_only to silence this warning.\n",
      "  correlaciones = archivo.corr()\n"
     ]
    },
    {
     "data": {
      "text/plain": [
       "period            1.000000\n",
       "year              0.994414\n",
       "quarter           0.040346\n",
       "messages_count   -0.862134\n",
       "Name: period, dtype: float64"
      ]
     },
     "execution_count": 8,
     "metadata": {},
     "output_type": "execute_result"
    }
   ],
   "source": [
    "correlaciones = archivo.corr()\n",
    "correlaciones[\"period\"]"
   ]
  },
  {
   "cell_type": "markdown",
   "metadata": {},
   "source": [
    "## METODO 2 : Spearman"
   ]
  },
  {
   "cell_type": "code",
   "execution_count": 9,
   "metadata": {},
   "outputs": [
    {
     "name": "stderr",
     "output_type": "stream",
     "text": [
      "C:\\Users\\Bonnie\\AppData\\Local\\Temp\\ipykernel_10248\\780596169.py:1: FutureWarning: The default value of numeric_only in DataFrame.corr is deprecated. In a future version, it will default to False. Select only valid columns or specify the value of numeric_only to silence this warning.\n",
      "  archivo.corr('spearman')['period']\n"
     ]
    },
    {
     "data": {
      "text/plain": [
       "period            1.000000\n",
       "year              0.994651\n",
       "quarter           0.039661\n",
       "messages_count   -0.996444\n",
       "Name: period, dtype: float64"
      ]
     },
     "execution_count": 9,
     "metadata": {},
     "output_type": "execute_result"
    }
   ],
   "source": [
    "archivo.corr('spearman')['period']"
   ]
  },
  {
   "cell_type": "markdown",
   "metadata": {},
   "source": [
    "# ¿Cómo es la relación entre estas dos variables?"
   ]
  },
  {
   "cell_type": "markdown",
   "metadata": {},
   "source": [
    "Son inversamente proporcionales"
   ]
  },
  {
   "cell_type": "markdown",
   "metadata": {},
   "source": [
    "# ¿Cuál es el valor p (p-value) de esta correlación?"
   ]
  },
  {
   "cell_type": "markdown",
   "metadata": {},
   "source": [
    "Menor a 0.0001"
   ]
  },
  {
   "cell_type": "code",
   "execution_count": 10,
   "metadata": {},
   "outputs": [
    {
     "data": {
      "text/plain": [
       "SignificanceResult(statistic=-0.9964438122332858, pvalue=3.3496445475770436e-39)"
      ]
     },
     "execution_count": 10,
     "metadata": {},
     "output_type": "execute_result"
    }
   ],
   "source": [
    "# función spearmanr de scipy\n",
    "spearmanr(archivo['period'], archivo['messages_count'])"
   ]
  },
  {
   "cell_type": "markdown",
   "metadata": {},
   "source": [
    "# ¿Es signitiva esta relación?"
   ]
  },
  {
   "cell_type": "markdown",
   "metadata": {},
   "source": [
    "Existe una relacion y es significativa"
   ]
  },
  {
   "cell_type": "markdown",
   "metadata": {},
   "source": [
    "# Si separás los datos en entrenamiento y prueba con train_size = 0.75 y random_state = 13 y ajustás un modelo de regresión lineal sobre estas dos variables, ¿cuál es su RMSEnormalizado?"
   ]
  },
  {
   "cell_type": "code",
   "execution_count": 11,
   "metadata": {},
   "outputs": [
    {
     "name": "stdout",
     "output_type": "stream",
     "text": [
      "Ordenada: 25103818402.675724\n",
      "Pendiente: [('period', -835717172.4163337)]\n",
      "Coeficiente de determinación R²: 0.7106326454825117\n"
     ]
    }
   ],
   "source": [
    "X = archivo[['period']]\n",
    "y = archivo['messages_count']\n",
    "\n",
    "# la función train_test_split de scikit-learn, que particionará nuestras X e y, cada una, en dos conjuntos\n",
    "X_train, X_test, y_train, y_test = train_test_split(\n",
    "  X.values.reshape(-1,1),\n",
    "  y.values,\n",
    "  train_size = 0.75,\n",
    "  random_state = 13,  \n",
    "  shuffle = True\n",
    ")\n",
    "\n",
    "# usaremos el par (X_train, y_train) para ajustar los coeficientes de nuestro regresor\n",
    "modelo = LinearRegression()\n",
    "modelo.fit(X = X_train, y = y_train)\n",
    "print(\"Ordenada:\", modelo.intercept_)\n",
    "print(\"Pendiente:\", list(zip(X.columns, modelo.coef_.flatten())))\n",
    "print(\"Coeficiente de determinación R²:\", modelo.score(X_test, y_test))"
   ]
  },
  {
   "cell_type": "markdown",
   "metadata": {},
   "source": [
    "RSME : 3978163163.6303334"
   ]
  },
  {
   "cell_type": "code",
   "execution_count": 12,
   "metadata": {},
   "outputs": [
    {
     "name": "stdout",
     "output_type": "stream",
     "text": [
      "RMSE: 3978163163.6303334\n"
     ]
    }
   ],
   "source": [
    "y_pred = modelo.predict(X = X_test)\n",
    "\n",
    "rmse = mean_squared_error(\n",
    "  y_true  = y_test,\n",
    "  y_pred  = y_pred,\n",
    "  squared = False\n",
    ")\n",
    "\n",
    "print(\"RMSE:\", rmse)"
   ]
  },
  {
   "cell_type": "markdown",
   "metadata": {},
   "source": [
    "RMSE normalizado: 0.11149153477082895"
   ]
  },
  {
   "cell_type": "code",
   "execution_count": 13,
   "metadata": {},
   "outputs": [
    {
     "data": {
      "text/plain": [
       "0.11149153477082895"
      ]
     },
     "execution_count": 13,
     "metadata": {},
     "output_type": "execute_result"
    }
   ],
   "source": [
    "def normalizar_rmse(rmse, y):\n",
    "  return rmse / (max(y) - min(y))\n",
    "\n",
    "normalizar_rmse(rmse, y)"
   ]
  },
  {
   "cell_type": "markdown",
   "metadata": {},
   "source": [
    "# GRafico del modelo"
   ]
  },
  {
   "cell_type": "code",
   "execution_count": 23,
   "metadata": {},
   "outputs": [
    {
     "data": {
      "text/plain": [
       "<Axes: xlabel='period', ylabel='messages_count'>"
      ]
     },
     "execution_count": 23,
     "metadata": {},
     "output_type": "execute_result"
    },
    {
     "data": {
      "image/png": "[encoded data removed]",
      "text/plain": [
       "<Figure size 640x480 with 1 Axes>"
      ]
     },
     "metadata": {},
     "output_type": "display_data"
    }
   ],
   "source": [
    "sns.regplot(x=\"period\", y=\"messages_count\", data=archivo)"
   ]
  }
 ],
 "metadata": {
  "kernelspec": {
   "display_name": "Python 3.10.9 64-bit (microsoft store)",
   "language": "python",
   "name": "python3"
  },
  "language_info": {
   "codemirror_mode": {
    "name": "ipython",
    "version": 3
   },
   "file_extension": ".py",
   "mimetype": "text/x-python",
   "name": "python",
   "nbconvert_exporter": "python",
   "pygments_lexer": "ipython3",
   "version": "3.10.9"
  },
  "orig_nbformat": 4,
  "vscode": {
   "interpreter": {
    "hash": "cc2a200e1e6dab10c4dc3986f0e7a998296447c993c26561a1bd050a849d8214"
   }
  }
 },
 "nbformat": 4,
 "nbformat_minor": 2
}
